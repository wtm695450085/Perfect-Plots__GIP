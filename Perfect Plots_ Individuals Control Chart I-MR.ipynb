{
 "cells": [
  {
   "cell_type": "markdown",
   "metadata": {},
   "source": [
    "# Perfect Plots: Individuals Control Chart  I-MR"
   ]
  },
  {
   "cell_type": "markdown",
   "metadata": {},
   "source": [
    "## Energy\n",
    "Source of data: https://github.com/pyviz/holoviews/blob/master/examples/assets/energy.csv"
   ]
  },
  {
   "cell_type": "code",
   "execution_count": 1,
   "metadata": {},
   "outputs": [],
   "source": [
    "import pandas as pd\n",
    "import matplotlib.pyplot as plt\n",
    "import numpy as np"
   ]
  },
  {
   "cell_type": "code",
   "execution_count": 2,
   "metadata": {},
   "outputs": [
    {
     "data": {
      "text/html": [
       "<div>\n",
       "<style scoped>\n",
       "    .dataframe tbody tr th:only-of-type {\n",
       "        vertical-align: middle;\n",
       "    }\n",
       "\n",
       "    .dataframe tbody tr th {\n",
       "        vertical-align: top;\n",
       "    }\n",
       "\n",
       "    .dataframe thead th {\n",
       "        text-align: right;\n",
       "    }\n",
       "</style>\n",
       "<table border=\"1\" class=\"dataframe\">\n",
       "  <thead>\n",
       "    <tr style=\"text-align: right;\">\n",
       "      <th></th>\n",
       "      <th>Unnamed: 0</th>\n",
       "      <th>Date</th>\n",
       "      <th>Consumption</th>\n",
       "      <th>Wind</th>\n",
       "      <th>Solar</th>\n",
       "      <th>Wind+Solar</th>\n",
       "    </tr>\n",
       "  </thead>\n",
       "  <tbody>\n",
       "    <tr>\n",
       "      <th>0</th>\n",
       "      <td>0</td>\n",
       "      <td>2006-01-01</td>\n",
       "      <td>1069.184</td>\n",
       "      <td>NaN</td>\n",
       "      <td>NaN</td>\n",
       "      <td>NaN</td>\n",
       "    </tr>\n",
       "    <tr>\n",
       "      <th>1</th>\n",
       "      <td>1</td>\n",
       "      <td>2006-01-02</td>\n",
       "      <td>1380.521</td>\n",
       "      <td>NaN</td>\n",
       "      <td>NaN</td>\n",
       "      <td>NaN</td>\n",
       "    </tr>\n",
       "    <tr>\n",
       "      <th>2</th>\n",
       "      <td>2</td>\n",
       "      <td>2006-01-03</td>\n",
       "      <td>1442.533</td>\n",
       "      <td>NaN</td>\n",
       "      <td>NaN</td>\n",
       "      <td>NaN</td>\n",
       "    </tr>\n",
       "    <tr>\n",
       "      <th>3</th>\n",
       "      <td>3</td>\n",
       "      <td>2006-01-04</td>\n",
       "      <td>1457.217</td>\n",
       "      <td>NaN</td>\n",
       "      <td>NaN</td>\n",
       "      <td>NaN</td>\n",
       "    </tr>\n",
       "    <tr>\n",
       "      <th>4</th>\n",
       "      <td>4</td>\n",
       "      <td>2006-01-05</td>\n",
       "      <td>1477.131</td>\n",
       "      <td>NaN</td>\n",
       "      <td>NaN</td>\n",
       "      <td>NaN</td>\n",
       "    </tr>\n",
       "  </tbody>\n",
       "</table>\n",
       "</div>"
      ],
      "text/plain": [
       "   Unnamed: 0        Date  Consumption  Wind  Solar  Wind+Solar\n",
       "0           0  2006-01-01     1069.184   NaN    NaN         NaN\n",
       "1           1  2006-01-02     1380.521   NaN    NaN         NaN\n",
       "2           2  2006-01-03     1442.533   NaN    NaN         NaN\n",
       "3           3  2006-01-04     1457.217   NaN    NaN         NaN\n",
       "4           4  2006-01-05     1477.131   NaN    NaN         NaN"
      ]
     },
     "execution_count": 2,
     "metadata": {},
     "output_type": "execute_result"
    }
   ],
   "source": [
    "df=pd.read_csv('c:/2/Energy.csv')\n",
    "df.head()"
   ]
  },
  {
   "cell_type": "code",
   "execution_count": 3,
   "metadata": {},
   "outputs": [
    {
     "name": "stdout",
     "output_type": "stream",
     "text": [
      "         Date  Consumption\n",
      "0  2006-01-01     1069.184\n",
      "1  2006-01-02     1380.521\n",
      "2  2006-01-03     1442.533\n",
      "3  2006-01-04     1457.217\n",
      "4  2006-01-05     1477.131\n"
     ]
    }
   ],
   "source": [
    "DDT = df[['Date','Consumption']]\n",
    "print(DDT.head())"
   ]
  },
  {
   "cell_type": "markdown",
   "metadata": {},
   "source": [
    "### <span style=\"color:blue\">Moving Range (R) Stretch marks means differences between the values of subsequent quotations</span>\n"
   ]
  },
  {
   "cell_type": "code",
   "execution_count": 4,
   "metadata": {},
   "outputs": [
    {
     "name": "stderr",
     "output_type": "stream",
     "text": [
      "C:\\ProgramData\\Anaconda3\\lib\\site-packages\\ipykernel_launcher.py:1: SettingWithCopyWarning: \n",
      "A value is trying to be set on a copy of a slice from a DataFrame.\n",
      "Try using .loc[row_indexer,col_indexer] = value instead\n",
      "\n",
      "See the caveats in the documentation: http://pandas.pydata.org/pandas-docs/stable/indexing.html#indexing-view-versus-copy\n",
      "  \"\"\"Entry point for launching an IPython kernel.\n",
      "C:\\ProgramData\\Anaconda3\\lib\\site-packages\\ipykernel_launcher.py:2: SettingWithCopyWarning: \n",
      "A value is trying to be set on a copy of a slice from a DataFrame.\n",
      "Try using .loc[row_indexer,col_indexer] = value instead\n",
      "\n",
      "See the caveats in the documentation: http://pandas.pydata.org/pandas-docs/stable/indexing.html#indexing-view-versus-copy\n",
      "  \n"
     ]
    }
   ],
   "source": [
    "DDT['Cons_diff'] = DDT['Consumption'].diff()  # rozstępy między pomiarami\n",
    "DDT['Cons_diff'] = abs(DDT['Cons_diff'])   # wartość bezwzględna dla liczby"
   ]
  },
  {
   "cell_type": "code",
   "execution_count": 5,
   "metadata": {},
   "outputs": [
    {
     "data": {
      "text/html": [
       "<div>\n",
       "<style scoped>\n",
       "    .dataframe tbody tr th:only-of-type {\n",
       "        vertical-align: middle;\n",
       "    }\n",
       "\n",
       "    .dataframe tbody tr th {\n",
       "        vertical-align: top;\n",
       "    }\n",
       "\n",
       "    .dataframe thead th {\n",
       "        text-align: right;\n",
       "    }\n",
       "</style>\n",
       "<table border=\"1\" class=\"dataframe\">\n",
       "  <thead>\n",
       "    <tr style=\"text-align: right;\">\n",
       "      <th></th>\n",
       "      <th>Date</th>\n",
       "      <th>Consumption</th>\n",
       "      <th>Cons_diff</th>\n",
       "    </tr>\n",
       "  </thead>\n",
       "  <tbody>\n",
       "    <tr>\n",
       "      <th>0</th>\n",
       "      <td>2006-01-01</td>\n",
       "      <td>1069.184</td>\n",
       "      <td>NaN</td>\n",
       "    </tr>\n",
       "    <tr>\n",
       "      <th>1</th>\n",
       "      <td>2006-01-02</td>\n",
       "      <td>1380.521</td>\n",
       "      <td>311.337</td>\n",
       "    </tr>\n",
       "    <tr>\n",
       "      <th>2</th>\n",
       "      <td>2006-01-03</td>\n",
       "      <td>1442.533</td>\n",
       "      <td>62.012</td>\n",
       "    </tr>\n",
       "    <tr>\n",
       "      <th>3</th>\n",
       "      <td>2006-01-04</td>\n",
       "      <td>1457.217</td>\n",
       "      <td>14.684</td>\n",
       "    </tr>\n",
       "    <tr>\n",
       "      <th>4</th>\n",
       "      <td>2006-01-05</td>\n",
       "      <td>1477.131</td>\n",
       "      <td>19.914</td>\n",
       "    </tr>\n",
       "  </tbody>\n",
       "</table>\n",
       "</div>"
      ],
      "text/plain": [
       "         Date  Consumption  Cons_diff\n",
       "0  2006-01-01     1069.184        NaN\n",
       "1  2006-01-02     1380.521    311.337\n",
       "2  2006-01-03     1442.533     62.012\n",
       "3  2006-01-04     1457.217     14.684\n",
       "4  2006-01-05     1477.131     19.914"
      ]
     },
     "execution_count": 5,
     "metadata": {},
     "output_type": "execute_result"
    }
   ],
   "source": [
    "DDT.head()"
   ]
  },
  {
   "cell_type": "markdown",
   "metadata": {},
   "source": [
    "### <span style=\"color:blue\">The average moving range and the average of the last 200 measurements</span>"
   ]
  },
  {
   "attachments": {
    "image.png": {
     "image/png": "[encoded data removed]"
    }
   },
   "cell_type": "markdown",
   "metadata": {},
   "source": [
    "![image.png](attachment:image.png)    "
   ]
  },
  {
   "attachments": {
    "image.png": {
     "image/png": "[encoded data removed]"
    }
   },
   "cell_type": "markdown",
   "metadata": {},
   "source": [
    "![image.png](attachment:image.png)"
   ]
  },
  {
   "cell_type": "code",
   "execution_count": 6,
   "metadata": {},
   "outputs": [
    {
     "data": {
      "text/plain": [
       "1362.0095919500009"
      ]
     },
     "execution_count": 6,
     "metadata": {},
     "output_type": "execute_result"
    }
   ],
   "source": [
    "X_men = DDT['Consumption'].tail(200).mean(axis=0)\n",
    "X_men"
   ]
  },
  {
   "cell_type": "code",
   "execution_count": 7,
   "metadata": {},
   "outputs": [
    {
     "data": {
      "text/plain": [
       "100.07229509999998"
      ]
     },
     "execution_count": 7,
     "metadata": {},
     "output_type": "execute_result"
    }
   ],
   "source": [
    "R_men = DDT['Cons_diff'].tail(200).mean(axis=0)\n",
    "R_men"
   ]
  },
  {
   "attachments": {
    "image.png": {
     "image/png": "[encoded data removed]"
    }
   },
   "cell_type": "markdown",
   "metadata": {},
   "source": [
    "![image.png](attachment:image.png)"
   ]
  },
  {
   "attachments": {
    "image.png": {
     "image/png": "[encoded data removed]"
    }
   },
   "cell_type": "markdown",
   "metadata": {},
   "source": [
    "![image.png](attachment:image.png)"
   ]
  },
  {
   "cell_type": "code",
   "execution_count": 8,
   "metadata": {},
   "outputs": [
    {
     "name": "stderr",
     "output_type": "stream",
     "text": [
      "C:\\ProgramData\\Anaconda3\\lib\\site-packages\\ipykernel_launcher.py:1: SettingWithCopyWarning: \n",
      "A value is trying to be set on a copy of a slice from a DataFrame.\n",
      "Try using .loc[row_indexer,col_indexer] = value instead\n",
      "\n",
      "See the caveats in the documentation: http://pandas.pydata.org/pandas-docs/stable/indexing.html#indexing-view-versus-copy\n",
      "  \"\"\"Entry point for launching an IPython kernel.\n",
      "C:\\ProgramData\\Anaconda3\\lib\\site-packages\\ipykernel_launcher.py:2: SettingWithCopyWarning: \n",
      "A value is trying to be set on a copy of a slice from a DataFrame.\n",
      "Try using .loc[row_indexer,col_indexer] = value instead\n",
      "\n",
      "See the caveats in the documentation: http://pandas.pydata.org/pandas-docs/stable/indexing.html#indexing-view-versus-copy\n",
      "  \n"
     ]
    },
    {
     "data": {
      "text/html": [
       "<div>\n",
       "<style scoped>\n",
       "    .dataframe tbody tr th:only-of-type {\n",
       "        vertical-align: middle;\n",
       "    }\n",
       "\n",
       "    .dataframe tbody tr th {\n",
       "        vertical-align: top;\n",
       "    }\n",
       "\n",
       "    .dataframe thead th {\n",
       "        text-align: right;\n",
       "    }\n",
       "</style>\n",
       "<table border=\"1\" class=\"dataframe\">\n",
       "  <thead>\n",
       "    <tr style=\"text-align: right;\">\n",
       "      <th></th>\n",
       "      <th>Date</th>\n",
       "      <th>Consumption</th>\n",
       "      <th>Cons_diff</th>\n",
       "      <th>X_men</th>\n",
       "      <th>R_men</th>\n",
       "      <th>UCLr</th>\n",
       "      <th>UCLx</th>\n",
       "      <th>LCLx</th>\n",
       "    </tr>\n",
       "  </thead>\n",
       "  <tbody>\n",
       "    <tr>\n",
       "      <th>0</th>\n",
       "      <td>2006-01-01</td>\n",
       "      <td>1069.184</td>\n",
       "      <td>NaN</td>\n",
       "      <td>1362.009592</td>\n",
       "      <td>100.072295</td>\n",
       "      <td>327.236405</td>\n",
       "      <td>1628.201897</td>\n",
       "      <td>1095.817287</td>\n",
       "    </tr>\n",
       "    <tr>\n",
       "      <th>1</th>\n",
       "      <td>2006-01-02</td>\n",
       "      <td>1380.521</td>\n",
       "      <td>311.337</td>\n",
       "      <td>1362.009592</td>\n",
       "      <td>100.072295</td>\n",
       "      <td>327.236405</td>\n",
       "      <td>1628.201897</td>\n",
       "      <td>1095.817287</td>\n",
       "    </tr>\n",
       "    <tr>\n",
       "      <th>2</th>\n",
       "      <td>2006-01-03</td>\n",
       "      <td>1442.533</td>\n",
       "      <td>62.012</td>\n",
       "      <td>1362.009592</td>\n",
       "      <td>100.072295</td>\n",
       "      <td>327.236405</td>\n",
       "      <td>1628.201897</td>\n",
       "      <td>1095.817287</td>\n",
       "    </tr>\n",
       "    <tr>\n",
       "      <th>3</th>\n",
       "      <td>2006-01-04</td>\n",
       "      <td>1457.217</td>\n",
       "      <td>14.684</td>\n",
       "      <td>1362.009592</td>\n",
       "      <td>100.072295</td>\n",
       "      <td>327.236405</td>\n",
       "      <td>1628.201897</td>\n",
       "      <td>1095.817287</td>\n",
       "    </tr>\n",
       "    <tr>\n",
       "      <th>4</th>\n",
       "      <td>2006-01-05</td>\n",
       "      <td>1477.131</td>\n",
       "      <td>19.914</td>\n",
       "      <td>1362.009592</td>\n",
       "      <td>100.072295</td>\n",
       "      <td>327.236405</td>\n",
       "      <td>1628.201897</td>\n",
       "      <td>1095.817287</td>\n",
       "    </tr>\n",
       "  </tbody>\n",
       "</table>\n",
       "</div>"
      ],
      "text/plain": [
       "         Date  Consumption  Cons_diff        X_men       R_men        UCLr  \\\n",
       "0  2006-01-01     1069.184        NaN  1362.009592  100.072295  327.236405   \n",
       "1  2006-01-02     1380.521    311.337  1362.009592  100.072295  327.236405   \n",
       "2  2006-01-03     1442.533     62.012  1362.009592  100.072295  327.236405   \n",
       "3  2006-01-04     1457.217     14.684  1362.009592  100.072295  327.236405   \n",
       "4  2006-01-05     1477.131     19.914  1362.009592  100.072295  327.236405   \n",
       "\n",
       "          UCLx         LCLx  \n",
       "0  1628.201897  1095.817287  \n",
       "1  1628.201897  1095.817287  \n",
       "2  1628.201897  1095.817287  \n",
       "3  1628.201897  1095.817287  \n",
       "4  1628.201897  1095.817287  "
      ]
     },
     "execution_count": 8,
     "metadata": {},
     "output_type": "execute_result"
    }
   ],
   "source": [
    "DDT['X_men'] = DDT['Consumption'].tail(200).mean(axis=0)\n",
    "DDT['R_men'] = DDT['Cons_diff'].tail(200).mean(axis=0)\n",
    "DDT['UCLr'] = 3.27 * DDT['R_men']\n",
    "DDT['UCLx'] = DDT['X_men'] + (2.66*DDT['R_men'])\n",
    "DDT['LCLx'] = DDT['X_men'] - (2.66*DDT['R_men'])\n",
    "DDT.head()"
   ]
  },
  {
   "attachments": {
    "image.png": {
     "image/png": "[encoded data removed]"
    }
   },
   "cell_type": "markdown",
   "metadata": {},
   "source": [
    "### Standard deviation for the process\n",
    "![image.png](attachment:image.png)"
   ]
  },
  {
   "cell_type": "code",
   "execution_count": 9,
   "metadata": {},
   "outputs": [
    {
     "data": {
      "text/html": [
       "<div>\n",
       "<style scoped>\n",
       "    .dataframe tbody tr th:only-of-type {\n",
       "        vertical-align: middle;\n",
       "    }\n",
       "\n",
       "    .dataframe tbody tr th {\n",
       "        vertical-align: top;\n",
       "    }\n",
       "\n",
       "    .dataframe thead th {\n",
       "        text-align: right;\n",
       "    }\n",
       "</style>\n",
       "<table border=\"1\" class=\"dataframe\">\n",
       "  <thead>\n",
       "    <tr style=\"text-align: right;\">\n",
       "      <th></th>\n",
       "      <th>Date</th>\n",
       "      <th>Consumption</th>\n",
       "      <th>Cons_diff</th>\n",
       "      <th>X_men</th>\n",
       "      <th>R_men</th>\n",
       "      <th>UCLr</th>\n",
       "      <th>UCLx</th>\n",
       "      <th>LCLx</th>\n",
       "      <th>std_T</th>\n",
       "    </tr>\n",
       "  </thead>\n",
       "  <tbody>\n",
       "    <tr>\n",
       "      <th>4381</th>\n",
       "      <td>2017-12-30</td>\n",
       "      <td>1215.44897</td>\n",
       "      <td>79.63856</td>\n",
       "      <td>1362.009592</td>\n",
       "      <td>100.072295</td>\n",
       "      <td>327.236405</td>\n",
       "      <td>1628.201897</td>\n",
       "      <td>1095.817287</td>\n",
       "      <td>88.716574</td>\n",
       "    </tr>\n",
       "    <tr>\n",
       "      <th>4382</th>\n",
       "      <td>2017-12-31</td>\n",
       "      <td>1107.11488</td>\n",
       "      <td>108.33409</td>\n",
       "      <td>1362.009592</td>\n",
       "      <td>100.072295</td>\n",
       "      <td>327.236405</td>\n",
       "      <td>1628.201897</td>\n",
       "      <td>1095.817287</td>\n",
       "      <td>88.716574</td>\n",
       "    </tr>\n",
       "  </tbody>\n",
       "</table>\n",
       "</div>"
      ],
      "text/plain": [
       "            Date  Consumption  Cons_diff        X_men       R_men        UCLr  \\\n",
       "4381  2017-12-30   1215.44897   79.63856  1362.009592  100.072295  327.236405   \n",
       "4382  2017-12-31   1107.11488  108.33409  1362.009592  100.072295  327.236405   \n",
       "\n",
       "             UCLx         LCLx      std_T  \n",
       "4381  1628.201897  1095.817287  88.716574  \n",
       "4382  1628.201897  1095.817287  88.716574  "
      ]
     },
     "execution_count": 9,
     "metadata": {},
     "output_type": "execute_result"
    }
   ],
   "source": [
    "DDT['std_T'] = DDT['R_men']/1.128\n",
    "DDT.tail(2)"
   ]
  },
  {
   "cell_type": "markdown",
   "metadata": {},
   "source": [
    "### Last 30 measurements"
   ]
  },
  {
   "cell_type": "code",
   "execution_count": 10,
   "metadata": {},
   "outputs": [],
   "source": [
    "ZZT = DDT.tail(60)"
   ]
  },
  {
   "cell_type": "code",
   "execution_count": 11,
   "metadata": {},
   "outputs": [
    {
     "name": "stderr",
     "output_type": "stream",
     "text": [
      "C:\\ProgramData\\Anaconda3\\lib\\site-packages\\ipykernel_launcher.py:1: SettingWithCopyWarning: \n",
      "A value is trying to be set on a copy of a slice from a DataFrame.\n",
      "Try using .loc[row_indexer,col_indexer] = value instead\n",
      "\n",
      "See the caveats in the documentation: http://pandas.pydata.org/pandas-docs/stable/indexing.html#indexing-view-versus-copy\n",
      "  \"\"\"Entry point for launching an IPython kernel.\n"
     ]
    },
    {
     "data": {
      "text/plain": [
       "Date           datetime64[ns]\n",
       "Consumption           float64\n",
       "Cons_diff             float64\n",
       "X_men                 float64\n",
       "R_men                 float64\n",
       "UCLr                  float64\n",
       "UCLx                  float64\n",
       "LCLx                  float64\n",
       "std_T                 float64\n",
       "dtype: object"
      ]
     },
     "execution_count": 11,
     "metadata": {},
     "output_type": "execute_result"
    }
   ],
   "source": [
    "ZZT['Date'] = pd.to_datetime(ZZT['Date'])\n",
    "ZZT.dtypes"
   ]
  },
  {
   "cell_type": "markdown",
   "metadata": {},
   "source": [
    "### Individuals Control Chart I-MR"
   ]
  },
  {
   "cell_type": "code",
   "execution_count": 12,
   "metadata": {},
   "outputs": [
    {
     "name": "stderr",
     "output_type": "stream",
     "text": [
      "No handles with labels found to put in legend.\n",
      "C:\\ProgramData\\Anaconda3\\lib\\site-packages\\pandas\\plotting\\_converter.py:129: FutureWarning: Using an implicitly registered datetime converter for a matplotlib plotting method. The converter was registered by pandas on import. Future versions of pandas will require you to explicitly register matplotlib converters.\n",
      "\n",
      "To register the converters:\n",
      "\t>>> from pandas.plotting import register_matplotlib_converters\n",
      "\t>>> register_matplotlib_converters()\n",
      "  warnings.warn(msg, FutureWarning)\n"
     ]
    },
    {
     "data": {
      "image/png": "[encoded data removed]",
      "text/plain": [
       "<Figure size 1296x576 with 4 Axes>"
      ]
     },
     "metadata": {
      "needs_background": "light"
     },
     "output_type": "display_data"
    }
   ],
   "source": [
    "fig, (ax1, ax2, ax3, ax4) = plt.subplots(nrows=1, ncols=4,figsize=(18, 8))\n",
    "\n",
    "grid = plt.GridSpec(3, 4, wspace=0.4, hspace=0.5)\n",
    "ax1 = plt.subplot(grid[0, 0])\n",
    "ax2 = plt.subplot(grid[0, 1:])\n",
    "ax3 = plt.subplot(grid[1, :1])\n",
    "ax4 = plt.subplot(grid[1, 1:])\n",
    "\n",
    "\n",
    "#ax1.plot(ZZT['Consumption'],color='green', alpha=0.8)\n",
    "#ax1.set_title('Freedom in the world', color='darkblue')\n",
    "#ax1.set_xlabel('jakaś zmienna')\n",
    "#ax1.set_ylabel('ogólnie wykres bez sensu', color='brown')\n",
    "\n",
    "ax2.set_title('Control Chart I-MR', color='darkblue')\n",
    "ax2.plot(ZZT['X_men'],color='green', alpha=0.8)\n",
    "ax2.plot(ZZT['UCLx'],color='red', alpha=0.8)\n",
    "ax2.plot(ZZT['LCLx'],color='red', alpha=0.8)\n",
    "ax2.plot(ZZT['Consumption'],color='blue', alpha=0.8)\n",
    "ax2.legend(loc=(0.65, 0.8))\n",
    "ax2.grid()\n",
    "\n",
    "#ax3.scatter(ZZT['couns_a_diff'],df['Freedom'],color='blue', alpha=0.8)\n",
    "ax3.scatter(ZZT['Date'],ZZT['Consumption'],color='red', alpha=0.8)\n",
    "#ax3.legend(loc=(0.65, 0.8))\n",
    "\n",
    "ax4.set_title('Moving Range (R)', color='darkblue')\n",
    "ax4.plot(ZZT['UCLr'],color='brown', alpha=0.8)\n",
    "ax4.plot( ZZT['Cons_diff'], color='black', alpha=0.8)\n",
    "ax4.grid()"
   ]
  },
  {
   "cell_type": "markdown",
   "metadata": {},
   "source": [
    "## Individuals Control Chart I-MR\n",
    "\n",
    "\n",
    "Source of data: https://www.spcforexcel.com/knowledge/variable-control-charts/individuals-control-charts"
   ]
  },
  {
   "cell_type": "code",
   "execution_count": 13,
   "metadata": {},
   "outputs": [
    {
     "data": {
      "text/html": [
       "<div>\n",
       "<style scoped>\n",
       "    .dataframe tbody tr th:only-of-type {\n",
       "        vertical-align: middle;\n",
       "    }\n",
       "\n",
       "    .dataframe tbody tr th {\n",
       "        vertical-align: top;\n",
       "    }\n",
       "\n",
       "    .dataframe thead th {\n",
       "        text-align: right;\n",
       "    }\n",
       "</style>\n",
       "<table border=\"1\" class=\"dataframe\">\n",
       "  <thead>\n",
       "    <tr style=\"text-align: right;\">\n",
       "      <th></th>\n",
       "      <th>nr</th>\n",
       "      <th>point</th>\n",
       "    </tr>\n",
       "  </thead>\n",
       "  <tbody>\n",
       "    <tr>\n",
       "      <th>0</th>\n",
       "      <td>1</td>\n",
       "      <td>3.5</td>\n",
       "    </tr>\n",
       "    <tr>\n",
       "      <th>1</th>\n",
       "      <td>2</td>\n",
       "      <td>2.4</td>\n",
       "    </tr>\n",
       "    <tr>\n",
       "      <th>2</th>\n",
       "      <td>3</td>\n",
       "      <td>4.1</td>\n",
       "    </tr>\n",
       "    <tr>\n",
       "      <th>3</th>\n",
       "      <td>4</td>\n",
       "      <td>2.8</td>\n",
       "    </tr>\n",
       "    <tr>\n",
       "      <th>4</th>\n",
       "      <td>5</td>\n",
       "      <td>3.0</td>\n",
       "    </tr>\n",
       "    <tr>\n",
       "      <th>5</th>\n",
       "      <td>6</td>\n",
       "      <td>4.7</td>\n",
       "    </tr>\n",
       "    <tr>\n",
       "      <th>6</th>\n",
       "      <td>7</td>\n",
       "      <td>1.2</td>\n",
       "    </tr>\n",
       "    <tr>\n",
       "      <th>7</th>\n",
       "      <td>8</td>\n",
       "      <td>0.9</td>\n",
       "    </tr>\n",
       "    <tr>\n",
       "      <th>8</th>\n",
       "      <td>9</td>\n",
       "      <td>2.5</td>\n",
       "    </tr>\n",
       "    <tr>\n",
       "      <th>9</th>\n",
       "      <td>10</td>\n",
       "      <td>3.1</td>\n",
       "    </tr>\n",
       "    <tr>\n",
       "      <th>10</th>\n",
       "      <td>11</td>\n",
       "      <td>3.6</td>\n",
       "    </tr>\n",
       "    <tr>\n",
       "      <th>11</th>\n",
       "      <td>12</td>\n",
       "      <td>4.1</td>\n",
       "    </tr>\n",
       "    <tr>\n",
       "      <th>12</th>\n",
       "      <td>13</td>\n",
       "      <td>3.8</td>\n",
       "    </tr>\n",
       "    <tr>\n",
       "      <th>13</th>\n",
       "      <td>14</td>\n",
       "      <td>2.5</td>\n",
       "    </tr>\n",
       "    <tr>\n",
       "      <th>14</th>\n",
       "      <td>15</td>\n",
       "      <td>2.8</td>\n",
       "    </tr>\n",
       "    <tr>\n",
       "      <th>15</th>\n",
       "      <td>16</td>\n",
       "      <td>4.3</td>\n",
       "    </tr>\n",
       "    <tr>\n",
       "      <th>16</th>\n",
       "      <td>17</td>\n",
       "      <td>4.1</td>\n",
       "    </tr>\n",
       "    <tr>\n",
       "      <th>17</th>\n",
       "      <td>18</td>\n",
       "      <td>3.6</td>\n",
       "    </tr>\n",
       "    <tr>\n",
       "      <th>18</th>\n",
       "      <td>19</td>\n",
       "      <td>2.4</td>\n",
       "    </tr>\n",
       "    <tr>\n",
       "      <th>19</th>\n",
       "      <td>20</td>\n",
       "      <td>4.8</td>\n",
       "    </tr>\n",
       "    <tr>\n",
       "      <th>20</th>\n",
       "      <td>21</td>\n",
       "      <td>3.5</td>\n",
       "    </tr>\n",
       "    <tr>\n",
       "      <th>21</th>\n",
       "      <td>22</td>\n",
       "      <td>2.5</td>\n",
       "    </tr>\n",
       "    <tr>\n",
       "      <th>22</th>\n",
       "      <td>23</td>\n",
       "      <td>1.3</td>\n",
       "    </tr>\n",
       "    <tr>\n",
       "      <th>23</th>\n",
       "      <td>24</td>\n",
       "      <td>4.5</td>\n",
       "    </tr>\n",
       "  </tbody>\n",
       "</table>\n",
       "</div>"
      ],
      "text/plain": [
       "    nr  point\n",
       "0    1    3.5\n",
       "1    2    2.4\n",
       "2    3    4.1\n",
       "3    4    2.8\n",
       "4    5    3.0\n",
       "5    6    4.7\n",
       "6    7    1.2\n",
       "7    8    0.9\n",
       "8    9    2.5\n",
       "9   10    3.1\n",
       "10  11    3.6\n",
       "11  12    4.1\n",
       "12  13    3.8\n",
       "13  14    2.5\n",
       "14  15    2.8\n",
       "15  16    4.3\n",
       "16  17    4.1\n",
       "17  18    3.6\n",
       "18  19    2.4\n",
       "19  20    4.8\n",
       "20  21    3.5\n",
       "21  22    2.5\n",
       "22  23    1.3\n",
       "23  24    4.5"
      ]
     },
     "execution_count": 13,
     "metadata": {},
     "output_type": "execute_result"
    }
   ],
   "source": [
    "dk = pd.read_csv('c:/11/ABC.txt')\n",
    "dk"
   ]
  },
  {
   "cell_type": "markdown",
   "metadata": {},
   "source": [
    "### <span style=\"color:blue\">Moving Range (R)</span>"
   ]
  },
  {
   "cell_type": "code",
   "execution_count": 14,
   "metadata": {},
   "outputs": [],
   "source": [
    "dk['point_diff'] = dk['point'].diff()  # rozstępy między pomiarami\n",
    "dk['point_diff'] = abs(dk['point_diff'])   # wartość bezwzględna dla liczby"
   ]
  },
  {
   "cell_type": "markdown",
   "metadata": {},
   "source": [
    "### <span style=\"color:blue\">Mean and Range (R)</span>"
   ]
  },
  {
   "cell_type": "code",
   "execution_count": 15,
   "metadata": {},
   "outputs": [
    {
     "data": {
      "text/html": [
       "<div>\n",
       "<style scoped>\n",
       "    .dataframe tbody tr th:only-of-type {\n",
       "        vertical-align: middle;\n",
       "    }\n",
       "\n",
       "    .dataframe tbody tr th {\n",
       "        vertical-align: top;\n",
       "    }\n",
       "\n",
       "    .dataframe thead th {\n",
       "        text-align: right;\n",
       "    }\n",
       "</style>\n",
       "<table border=\"1\" class=\"dataframe\">\n",
       "  <thead>\n",
       "    <tr style=\"text-align: right;\">\n",
       "      <th></th>\n",
       "      <th>nr</th>\n",
       "      <th>point</th>\n",
       "      <th>point_diff</th>\n",
       "      <th>X_men</th>\n",
       "      <th>R_men</th>\n",
       "      <th>UCLr</th>\n",
       "      <th>UCLx</th>\n",
       "      <th>LCLx</th>\n",
       "    </tr>\n",
       "  </thead>\n",
       "  <tbody>\n",
       "    <tr>\n",
       "      <th>0</th>\n",
       "      <td>1</td>\n",
       "      <td>3.5</td>\n",
       "      <td>NaN</td>\n",
       "      <td>3.166667</td>\n",
       "      <td>1.191304</td>\n",
       "      <td>3.895565</td>\n",
       "      <td>6.335536</td>\n",
       "      <td>-0.002203</td>\n",
       "    </tr>\n",
       "    <tr>\n",
       "      <th>1</th>\n",
       "      <td>2</td>\n",
       "      <td>2.4</td>\n",
       "      <td>1.1</td>\n",
       "      <td>3.166667</td>\n",
       "      <td>1.191304</td>\n",
       "      <td>3.895565</td>\n",
       "      <td>6.335536</td>\n",
       "      <td>-0.002203</td>\n",
       "    </tr>\n",
       "    <tr>\n",
       "      <th>2</th>\n",
       "      <td>3</td>\n",
       "      <td>4.1</td>\n",
       "      <td>1.7</td>\n",
       "      <td>3.166667</td>\n",
       "      <td>1.191304</td>\n",
       "      <td>3.895565</td>\n",
       "      <td>6.335536</td>\n",
       "      <td>-0.002203</td>\n",
       "    </tr>\n",
       "    <tr>\n",
       "      <th>3</th>\n",
       "      <td>4</td>\n",
       "      <td>2.8</td>\n",
       "      <td>1.3</td>\n",
       "      <td>3.166667</td>\n",
       "      <td>1.191304</td>\n",
       "      <td>3.895565</td>\n",
       "      <td>6.335536</td>\n",
       "      <td>-0.002203</td>\n",
       "    </tr>\n",
       "    <tr>\n",
       "      <th>4</th>\n",
       "      <td>5</td>\n",
       "      <td>3.0</td>\n",
       "      <td>0.2</td>\n",
       "      <td>3.166667</td>\n",
       "      <td>1.191304</td>\n",
       "      <td>3.895565</td>\n",
       "      <td>6.335536</td>\n",
       "      <td>-0.002203</td>\n",
       "    </tr>\n",
       "  </tbody>\n",
       "</table>\n",
       "</div>"
      ],
      "text/plain": [
       "   nr  point  point_diff     X_men     R_men      UCLr      UCLx      LCLx\n",
       "0   1    3.5         NaN  3.166667  1.191304  3.895565  6.335536 -0.002203\n",
       "1   2    2.4         1.1  3.166667  1.191304  3.895565  6.335536 -0.002203\n",
       "2   3    4.1         1.7  3.166667  1.191304  3.895565  6.335536 -0.002203\n",
       "3   4    2.8         1.3  3.166667  1.191304  3.895565  6.335536 -0.002203\n",
       "4   5    3.0         0.2  3.166667  1.191304  3.895565  6.335536 -0.002203"
      ]
     },
     "execution_count": 15,
     "metadata": {},
     "output_type": "execute_result"
    }
   ],
   "source": [
    "dk['X_men'] = dk['point'].tail(200).mean(axis=0)\n",
    "dk['R_men'] = dk['point_diff'].tail(200).mean(axis=0)\n",
    "dk['UCLr'] = 3.27 * dk['R_men']\n",
    "dk['UCLx'] = dk['X_men'] + (2.66*dk['R_men'])\n",
    "dk['LCLx'] = dk['X_men'] - (2.66*dk['R_men'])\n",
    "dk.head()"
   ]
  },
  {
   "cell_type": "markdown",
   "metadata": {},
   "source": [
    "### <span style=\"color:blue\">Control Chart I-MR</span>"
   ]
  },
  {
   "cell_type": "markdown",
   "metadata": {},
   "source": [
    "Help: https://matplotlib.org/2.1.2/api/_as_gen/matplotlib.pyplot.plot.html"
   ]
  },
  {
   "cell_type": "code",
   "execution_count": 16,
   "metadata": {},
   "outputs": [
    {
     "data": {
      "image/png": "[encoded data removed]",
      "text/plain": [
       "<Figure size 1440x1440 with 4 Axes>"
      ]
     },
     "metadata": {
      "needs_background": "light"
     },
     "output_type": "display_data"
    }
   ],
   "source": [
    "fig, (ax1, ax2, ax3, ax4) = plt.subplots(nrows=1, ncols=4,figsize=(20, 20))\n",
    "\n",
    "grid = plt.GridSpec(6, 4, wspace=0.4, hspace=0.5)\n",
    "ax1 = plt.subplot(grid[0, 0])\n",
    "ax2 = plt.subplot(grid[0, 1:])\n",
    "ax3 = plt.subplot(grid[1, :1])\n",
    "ax4 = plt.subplot(grid[1, 1:])\n",
    "\n",
    "\n",
    "#ax1.plot(ZZT['Consumption'],color='green', alpha=0.8)\n",
    "#ax1.set_title('Freedom in the world', color='darkblue')\n",
    "#ax1.set_xlabel('jakaś zmienna')\n",
    "#ax1.set_ylabel('ogólnie wykres bez sensu', color='brown')\n",
    "\n",
    "ax2.set_title('Control Chart I-MR', color='darkblue', fontsize=18)\n",
    "ax2.plot(dk['X_men'],'--',color='green', alpha=0.8, label='X_men')\n",
    "ax2.plot(dk['UCLx'],'-.',color='red', alpha=0.8, label='UCLx')\n",
    "ax2.plot(dk['LCLx'],'-.',color='darkred', alpha=0.8, label='LCLx')\n",
    "ax2.plot(dk['point'],'go-',color='blue', alpha=0.8, label='x')\n",
    "#ax2.legend(loc=(-0.15, 0.5))\n",
    "ax2.grid()\n",
    "ax2.annotate('UCL', xy=(1,1), xytext=(0.95, 0.89), textcoords='axes fraction', fontsize=18, color='red')\n",
    "ax2.annotate('LCL', xy=(1,1), xytext=(0.95, 0.07), textcoords='axes fraction', fontsize=18, color='black')\n",
    "ax2.annotate('mean', xy=(1,1), xytext=(0.95, 0.5), textcoords='axes fraction', fontsize=18, color='green')\n",
    "\n",
    "\n",
    "#ax3.scatter(ZZT['couns_a_diff'],df['Freedom'],color='blue', alpha=0.8)\n",
    "#ax3.scatter(ZZT['Date'],ZZT['Consumption'],color='red', alpha=0.8)\n",
    "#ax3.legend(loc=(0.65, 0.8))\n",
    "\n",
    "\n",
    "ax4.set_title('Moving Range (R)', color='darkblue', fontsize=18)\n",
    "ax4.plot(dk['UCLr'],'-.',color='red',alpha=0.8, label='UCLr')\n",
    "ax4.plot(dk['R_men'],'--',color='green', alpha=0.8, label='R_men')\n",
    "ax4.plot( dk['point_diff'],'rs-', color='black', alpha=0.8, label='R')\n",
    "ax4.annotate('mean', xy=(1,1), xytext=(0.95, 0.3), textcoords='axes fraction', fontsize=18, color='green')\n",
    "ax4.annotate('UCL', xy=(1,1), xytext=(0.95, 0.89), textcoords='axes fraction', fontsize=18, color='red')\n",
    "#ax4.legend(loc=(-0.15, 0.6))\n",
    "ax4.grid()"
   ]
  }
 ],
 "metadata": {
  "kernelspec": {
   "display_name": "Python 3",
   "language": "python",
   "name": "python3"
  },
  "language_info": {
   "codemirror_mode": {
    "name": "ipython",
    "version": 3
   },
   "file_extension": ".py",
   "mimetype": "text/x-python",
   "name": "python",
   "nbconvert_exporter": "python",
   "pygments_lexer": "ipython3",
   "version": "3.6.8"
  }
 },
 "nbformat": 4,
 "nbformat_minor": 2
}
