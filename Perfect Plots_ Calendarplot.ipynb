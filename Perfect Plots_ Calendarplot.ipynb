{
 "cells": [
  {
   "cell_type": "markdown",
   "metadata": {},
   "source": [
    "# Perfect Plots: Calendarplot"
   ]
  },
  {
   "cell_type": "code",
   "execution_count": 1,
   "metadata": {},
   "outputs": [],
   "source": [
    "import matplotlib as mpl\n",
    "import calmap\n",
    "import pandas as pd\n",
    "import matplotlib.pyplot as plt"
   ]
  },
  {
   "cell_type": "markdown",
   "metadata": {},
   "source": [
    "## yahoo"
   ]
  },
  {
   "cell_type": "code",
   "execution_count": 2,
   "metadata": {},
   "outputs": [
    {
     "data": {
      "text/html": [
       "<div>\n",
       "<style scoped>\n",
       "    .dataframe tbody tr th:only-of-type {\n",
       "        vertical-align: middle;\n",
       "    }\n",
       "\n",
       "    .dataframe tbody tr th {\n",
       "        vertical-align: top;\n",
       "    }\n",
       "\n",
       "    .dataframe thead th {\n",
       "        text-align: right;\n",
       "    }\n",
       "</style>\n",
       "<table border=\"1\" class=\"dataframe\">\n",
       "  <thead>\n",
       "    <tr style=\"text-align: right;\">\n",
       "      <th></th>\n",
       "      <th>VIX.Open</th>\n",
       "      <th>VIX.High</th>\n",
       "      <th>VIX.Low</th>\n",
       "      <th>VIX.Close</th>\n",
       "      <th>VIX.Volume</th>\n",
       "      <th>VIX.Adjusted</th>\n",
       "      <th>year</th>\n",
       "      <th>month</th>\n",
       "      <th>monthf</th>\n",
       "      <th>weekday</th>\n",
       "      <th>weekdayf</th>\n",
       "      <th>week</th>\n",
       "    </tr>\n",
       "    <tr>\n",
       "      <th>date</th>\n",
       "      <th></th>\n",
       "      <th></th>\n",
       "      <th></th>\n",
       "      <th></th>\n",
       "      <th></th>\n",
       "      <th></th>\n",
       "      <th></th>\n",
       "      <th></th>\n",
       "      <th></th>\n",
       "      <th></th>\n",
       "      <th></th>\n",
       "      <th></th>\n",
       "    </tr>\n",
       "  </thead>\n",
       "  <tbody>\n",
       "    <tr>\n",
       "      <th>2007-01-03</th>\n",
       "      <td>12.16</td>\n",
       "      <td>12.75</td>\n",
       "      <td>11.53</td>\n",
       "      <td>12.04</td>\n",
       "      <td>0</td>\n",
       "      <td>12.04</td>\n",
       "      <td>2007</td>\n",
       "      <td>1</td>\n",
       "      <td>Jan</td>\n",
       "      <td>3</td>\n",
       "      <td>Wed</td>\n",
       "      <td>1</td>\n",
       "    </tr>\n",
       "    <tr>\n",
       "      <th>2007-01-04</th>\n",
       "      <td>12.40</td>\n",
       "      <td>12.42</td>\n",
       "      <td>11.28</td>\n",
       "      <td>11.51</td>\n",
       "      <td>0</td>\n",
       "      <td>11.51</td>\n",
       "      <td>2007</td>\n",
       "      <td>1</td>\n",
       "      <td>Jan</td>\n",
       "      <td>4</td>\n",
       "      <td>Thu</td>\n",
       "      <td>1</td>\n",
       "    </tr>\n",
       "    <tr>\n",
       "      <th>2007-01-05</th>\n",
       "      <td>11.84</td>\n",
       "      <td>12.25</td>\n",
       "      <td>11.68</td>\n",
       "      <td>12.14</td>\n",
       "      <td>0</td>\n",
       "      <td>12.14</td>\n",
       "      <td>2007</td>\n",
       "      <td>1</td>\n",
       "      <td>Jan</td>\n",
       "      <td>5</td>\n",
       "      <td>Fri</td>\n",
       "      <td>1</td>\n",
       "    </tr>\n",
       "  </tbody>\n",
       "</table>\n",
       "</div>"
      ],
      "text/plain": [
       "            VIX.Open  VIX.High  VIX.Low  VIX.Close  VIX.Volume  VIX.Adjusted  \\\n",
       "date                                                                           \n",
       "2007-01-03     12.16     12.75    11.53      12.04           0         12.04   \n",
       "2007-01-04     12.40     12.42    11.28      11.51           0         11.51   \n",
       "2007-01-05     11.84     12.25    11.68      12.14           0         12.14   \n",
       "\n",
       "            year  month monthf  weekday weekdayf  week  \n",
       "date                                                    \n",
       "2007-01-03  2007      1    Jan        3      Wed     1  \n",
       "2007-01-04  2007      1    Jan        4      Thu     1  \n",
       "2007-01-05  2007      1    Jan        5      Fri     1  "
      ]
     },
     "execution_count": 2,
     "metadata": {},
     "output_type": "execute_result"
    }
   ],
   "source": [
    "df = pd.read_csv('c:/1/yahoo.txt', parse_dates=['date'])\n",
    "df.set_index('date', inplace=True)\n",
    "df.head(3)"
   ]
  },
  {
   "cell_type": "code",
   "execution_count": 3,
   "metadata": {},
   "outputs": [
    {
     "data": {
      "text/plain": [
       "<Figure size 4480x2800 with 0 Axes>"
      ]
     },
     "metadata": {},
     "output_type": "display_data"
    },
    {
     "data": {
      "image/png": "[encoded data removed]",
      "text/plain": [
       "<Figure size 1152x720 with 1 Axes>"
      ]
     },
     "metadata": {
      "needs_background": "light"
     },
     "output_type": "display_data"
    }
   ],
   "source": [
    "plt.figure(figsize=(16,10), dpi= 280)\n",
    "calmap.calendarplot(df['2014']['VIX.Close'],cmap= 'seismic', fig_kws={'figsize': (16,10)}, yearlabel_kws={'color':'black', 'fontsize':24}, subplot_kws={'title':'Yahoo Stock Prices'})\n",
    "plt.show()"
   ]
  },
  {
   "cell_type": "markdown",
   "metadata": {},
   "source": [
    "\n",
    "paltes: https://matplotlib.org/examples/color/colormaps_reference.html\n",
    "\n",
    "\n",
    "cmaps = [('Perceptually Uniform Sequential', [ 'viridis', 'plasma', 'inferno', 'magma']), ('Sequential', [ 'Greys', 'Purples', 'Blues', 'Greens', 'Oranges', 'Reds', 'YlOrBr', 'YlOrRd', 'OrRd', 'PuRd', 'RdPu', 'BuPu', 'GnBu', 'PuBu', 'YlGnBu', 'PuBuGn', 'BuGn', 'YlGn']), ('Sequential (2)', [ 'binary', 'gist_yarg', 'gist_gray', 'gray', 'bone', 'pink', 'spring', 'summer', 'autumn', 'winter', 'cool', 'Wistia', 'hot', 'afmhot', 'gist_heat', 'copper']), ('Diverging', [ 'PiYG', 'PRGn', 'BrBG', 'PuOr', 'RdGy', 'RdBu', 'RdYlBu', 'RdYlGn', 'Spectral', 'coolwarm', 'bwr', 'seismic']), ('Qualitative', [ 'Pastel1', 'Pastel2', 'Paired', 'Accent', 'Dark2', 'Set1', 'Set2', 'Set3', 'tab10', 'tab20', 'tab20b', 'tab20c']), ('Miscellaneous', [ 'flag', 'prism', 'ocean', 'gist_earth', 'terrain', 'gist_stern', 'gnuplot', 'gnuplot2', 'CMRmap', 'cubehelix', 'brg', 'hsv', 'gist_rainbow', 'rainbow', 'jet', 'nipy_spectral', 'gist_ncar'])]"
   ]
  },
  {
   "cell_type": "code",
   "execution_count": 4,
   "metadata": {},
   "outputs": [
    {
     "data": {
      "text/html": [
       "<div>\n",
       "<style scoped>\n",
       "    .dataframe tbody tr th:only-of-type {\n",
       "        vertical-align: middle;\n",
       "    }\n",
       "\n",
       "    .dataframe tbody tr th {\n",
       "        vertical-align: top;\n",
       "    }\n",
       "\n",
       "    .dataframe thead th {\n",
       "        text-align: right;\n",
       "    }\n",
       "</style>\n",
       "<table border=\"1\" class=\"dataframe\">\n",
       "  <thead>\n",
       "    <tr style=\"text-align: right;\">\n",
       "      <th></th>\n",
       "      <th>VIX.Open</th>\n",
       "      <th>VIX.High</th>\n",
       "      <th>VIX.Low</th>\n",
       "      <th>VIX.Close</th>\n",
       "      <th>VIX.Volume</th>\n",
       "      <th>VIX.Adjusted</th>\n",
       "      <th>year</th>\n",
       "      <th>month</th>\n",
       "      <th>monthf</th>\n",
       "      <th>weekday</th>\n",
       "      <th>weekdayf</th>\n",
       "      <th>week</th>\n",
       "    </tr>\n",
       "    <tr>\n",
       "      <th>date</th>\n",
       "      <th></th>\n",
       "      <th></th>\n",
       "      <th></th>\n",
       "      <th></th>\n",
       "      <th></th>\n",
       "      <th></th>\n",
       "      <th></th>\n",
       "      <th></th>\n",
       "      <th></th>\n",
       "      <th></th>\n",
       "      <th></th>\n",
       "      <th></th>\n",
       "    </tr>\n",
       "  </thead>\n",
       "  <tbody>\n",
       "    <tr>\n",
       "      <th>2007-01-03</th>\n",
       "      <td>12.16</td>\n",
       "      <td>12.75</td>\n",
       "      <td>11.53</td>\n",
       "      <td>12.04</td>\n",
       "      <td>0</td>\n",
       "      <td>12.04</td>\n",
       "      <td>2007</td>\n",
       "      <td>1</td>\n",
       "      <td>Jan</td>\n",
       "      <td>3</td>\n",
       "      <td>Wed</td>\n",
       "      <td>1</td>\n",
       "    </tr>\n",
       "    <tr>\n",
       "      <th>2007-01-04</th>\n",
       "      <td>12.40</td>\n",
       "      <td>12.42</td>\n",
       "      <td>11.28</td>\n",
       "      <td>11.51</td>\n",
       "      <td>0</td>\n",
       "      <td>11.51</td>\n",
       "      <td>2007</td>\n",
       "      <td>1</td>\n",
       "      <td>Jan</td>\n",
       "      <td>4</td>\n",
       "      <td>Thu</td>\n",
       "      <td>1</td>\n",
       "    </tr>\n",
       "    <tr>\n",
       "      <th>2007-01-05</th>\n",
       "      <td>11.84</td>\n",
       "      <td>12.25</td>\n",
       "      <td>11.68</td>\n",
       "      <td>12.14</td>\n",
       "      <td>0</td>\n",
       "      <td>12.14</td>\n",
       "      <td>2007</td>\n",
       "      <td>1</td>\n",
       "      <td>Jan</td>\n",
       "      <td>5</td>\n",
       "      <td>Fri</td>\n",
       "      <td>1</td>\n",
       "    </tr>\n",
       "    <tr>\n",
       "      <th>2007-01-08</th>\n",
       "      <td>12.48</td>\n",
       "      <td>12.83</td>\n",
       "      <td>11.78</td>\n",
       "      <td>12.00</td>\n",
       "      <td>0</td>\n",
       "      <td>12.00</td>\n",
       "      <td>2007</td>\n",
       "      <td>1</td>\n",
       "      <td>Jan</td>\n",
       "      <td>1</td>\n",
       "      <td>Mon</td>\n",
       "      <td>2</td>\n",
       "    </tr>\n",
       "  </tbody>\n",
       "</table>\n",
       "</div>"
      ],
      "text/plain": [
       "            VIX.Open  VIX.High  VIX.Low  VIX.Close  VIX.Volume  VIX.Adjusted  \\\n",
       "date                                                                           \n",
       "2007-01-03     12.16     12.75    11.53      12.04           0         12.04   \n",
       "2007-01-04     12.40     12.42    11.28      11.51           0         11.51   \n",
       "2007-01-05     11.84     12.25    11.68      12.14           0         12.14   \n",
       "2007-01-08     12.48     12.83    11.78      12.00           0         12.00   \n",
       "\n",
       "            year  month monthf  weekday weekdayf  week  \n",
       "date                                                    \n",
       "2007-01-03  2007      1    Jan        3      Wed     1  \n",
       "2007-01-04  2007      1    Jan        4      Thu     1  \n",
       "2007-01-05  2007      1    Jan        5      Fri     1  \n",
       "2007-01-08  2007      1    Jan        1      Mon     2  "
      ]
     },
     "execution_count": 4,
     "metadata": {},
     "output_type": "execute_result"
    }
   ],
   "source": [
    "df.head(4)"
   ]
  },
  {
   "cell_type": "markdown",
   "metadata": {},
   "source": [
    "## phone_data"
   ]
  },
  {
   "cell_type": "code",
   "execution_count": 5,
   "metadata": {},
   "outputs": [
    {
     "data": {
      "text/html": [
       "<div>\n",
       "<style scoped>\n",
       "    .dataframe tbody tr th:only-of-type {\n",
       "        vertical-align: middle;\n",
       "    }\n",
       "\n",
       "    .dataframe tbody tr th {\n",
       "        vertical-align: top;\n",
       "    }\n",
       "\n",
       "    .dataframe thead th {\n",
       "        text-align: right;\n",
       "    }\n",
       "</style>\n",
       "<table border=\"1\" class=\"dataframe\">\n",
       "  <thead>\n",
       "    <tr style=\"text-align: right;\">\n",
       "      <th></th>\n",
       "      <th>index</th>\n",
       "      <th>date</th>\n",
       "      <th>duration</th>\n",
       "      <th>item</th>\n",
       "      <th>month</th>\n",
       "      <th>network</th>\n",
       "      <th>network_type</th>\n",
       "    </tr>\n",
       "  </thead>\n",
       "  <tbody>\n",
       "    <tr>\n",
       "      <th>0</th>\n",
       "      <td>0</td>\n",
       "      <td>2014-10-15 06:58:00</td>\n",
       "      <td>34.429</td>\n",
       "      <td>data</td>\n",
       "      <td>2014-11</td>\n",
       "      <td>data</td>\n",
       "      <td>data</td>\n",
       "    </tr>\n",
       "    <tr>\n",
       "      <th>1</th>\n",
       "      <td>1</td>\n",
       "      <td>2014-10-15 06:58:00</td>\n",
       "      <td>13.000</td>\n",
       "      <td>call</td>\n",
       "      <td>2014-11</td>\n",
       "      <td>Vodafone</td>\n",
       "      <td>mobile</td>\n",
       "    </tr>\n",
       "    <tr>\n",
       "      <th>2</th>\n",
       "      <td>2</td>\n",
       "      <td>2014-10-15 14:46:00</td>\n",
       "      <td>23.000</td>\n",
       "      <td>call</td>\n",
       "      <td>2014-11</td>\n",
       "      <td>Meteor</td>\n",
       "      <td>mobile</td>\n",
       "    </tr>\n",
       "  </tbody>\n",
       "</table>\n",
       "</div>"
      ],
      "text/plain": [
       "   index                date  duration  item    month   network network_type\n",
       "0      0 2014-10-15 06:58:00    34.429  data  2014-11      data         data\n",
       "1      1 2014-10-15 06:58:00    13.000  call  2014-11  Vodafone       mobile\n",
       "2      2 2014-10-15 14:46:00    23.000  call  2014-11    Meteor       mobile"
      ]
     },
     "execution_count": 5,
     "metadata": {},
     "output_type": "execute_result"
    }
   ],
   "source": [
    "df2 = pd.read_csv('c:/1/phone_data.csv', parse_dates=['date'])\n",
    "df2.head(3)"
   ]
  },
  {
   "cell_type": "code",
   "execution_count": 6,
   "metadata": {},
   "outputs": [
    {
     "data": {
      "text/html": [
       "<div>\n",
       "<style scoped>\n",
       "    .dataframe tbody tr th:only-of-type {\n",
       "        vertical-align: middle;\n",
       "    }\n",
       "\n",
       "    .dataframe tbody tr th {\n",
       "        vertical-align: top;\n",
       "    }\n",
       "\n",
       "    .dataframe thead th {\n",
       "        text-align: right;\n",
       "    }\n",
       "</style>\n",
       "<table border=\"1\" class=\"dataframe\">\n",
       "  <thead>\n",
       "    <tr style=\"text-align: right;\">\n",
       "      <th></th>\n",
       "      <th>index</th>\n",
       "      <th>duration</th>\n",
       "      <th>item</th>\n",
       "      <th>month</th>\n",
       "      <th>network</th>\n",
       "      <th>network_type</th>\n",
       "    </tr>\n",
       "    <tr>\n",
       "      <th>date</th>\n",
       "      <th></th>\n",
       "      <th></th>\n",
       "      <th></th>\n",
       "      <th></th>\n",
       "      <th></th>\n",
       "      <th></th>\n",
       "    </tr>\n",
       "  </thead>\n",
       "  <tbody>\n",
       "    <tr>\n",
       "      <th>2014-10-15 06:58:00</th>\n",
       "      <td>0</td>\n",
       "      <td>34.429</td>\n",
       "      <td>data</td>\n",
       "      <td>2014-11</td>\n",
       "      <td>data</td>\n",
       "      <td>data</td>\n",
       "    </tr>\n",
       "    <tr>\n",
       "      <th>2014-10-15 06:58:00</th>\n",
       "      <td>1</td>\n",
       "      <td>13.000</td>\n",
       "      <td>call</td>\n",
       "      <td>2014-11</td>\n",
       "      <td>Vodafone</td>\n",
       "      <td>mobile</td>\n",
       "    </tr>\n",
       "    <tr>\n",
       "      <th>2014-10-15 14:46:00</th>\n",
       "      <td>2</td>\n",
       "      <td>23.000</td>\n",
       "      <td>call</td>\n",
       "      <td>2014-11</td>\n",
       "      <td>Meteor</td>\n",
       "      <td>mobile</td>\n",
       "    </tr>\n",
       "    <tr>\n",
       "      <th>2014-10-15 14:48:00</th>\n",
       "      <td>3</td>\n",
       "      <td>4.000</td>\n",
       "      <td>call</td>\n",
       "      <td>2014-11</td>\n",
       "      <td>Tesco</td>\n",
       "      <td>mobile</td>\n",
       "    </tr>\n",
       "    <tr>\n",
       "      <th>2014-10-15 17:27:00</th>\n",
       "      <td>4</td>\n",
       "      <td>4.000</td>\n",
       "      <td>call</td>\n",
       "      <td>2014-11</td>\n",
       "      <td>Tesco</td>\n",
       "      <td>mobile</td>\n",
       "    </tr>\n",
       "  </tbody>\n",
       "</table>\n",
       "</div>"
      ],
      "text/plain": [
       "                     index  duration  item    month   network network_type\n",
       "date                                                                      \n",
       "2014-10-15 06:58:00      0    34.429  data  2014-11      data         data\n",
       "2014-10-15 06:58:00      1    13.000  call  2014-11  Vodafone       mobile\n",
       "2014-10-15 14:46:00      2    23.000  call  2014-11    Meteor       mobile\n",
       "2014-10-15 14:48:00      3     4.000  call  2014-11     Tesco       mobile\n",
       "2014-10-15 17:27:00      4     4.000  call  2014-11     Tesco       mobile"
      ]
     },
     "execution_count": 6,
     "metadata": {},
     "output_type": "execute_result"
    }
   ],
   "source": [
    "df2.set_index('date', inplace=True)\n",
    "df2.head()"
   ]
  },
  {
   "cell_type": "code",
   "execution_count": 7,
   "metadata": {},
   "outputs": [
    {
     "data": {
      "text/plain": [
       "<Figure size 4480x2800 with 0 Axes>"
      ]
     },
     "metadata": {},
     "output_type": "display_data"
    },
    {
     "data": {
      "image/png": "[encoded data removed]",
      "text/plain": [
       "<Figure size 1152x720 with 1 Axes>"
      ]
     },
     "metadata": {
      "needs_background": "light"
     },
     "output_type": "display_data"
    }
   ],
   "source": [
    "plt.figure(figsize=(16,10), dpi= 280)\n",
    "calmap.calendarplot(df2['2014']['duration'],cmap= 'BrBG', how='sum'\n",
    "                    ,fillcolor='white'\n",
    "                    , fig_kws={'figsize': (16,10)}\n",
    "                    , yearlabel_kws={'color':'black', 'fontsize':24}\n",
    "                    , subplot_kws={'title':'phone_data'})\n",
    "plt.show()\n"
   ]
  },
  {
   "cell_type": "markdown",
   "metadata": {},
   "source": [
    "## Energy"
   ]
  },
  {
   "cell_type": "code",
   "execution_count": 8,
   "metadata": {},
   "outputs": [
    {
     "data": {
      "text/html": [
       "<div>\n",
       "<style scoped>\n",
       "    .dataframe tbody tr th:only-of-type {\n",
       "        vertical-align: middle;\n",
       "    }\n",
       "\n",
       "    .dataframe tbody tr th {\n",
       "        vertical-align: top;\n",
       "    }\n",
       "\n",
       "    .dataframe thead th {\n",
       "        text-align: right;\n",
       "    }\n",
       "</style>\n",
       "<table border=\"1\" class=\"dataframe\">\n",
       "  <thead>\n",
       "    <tr style=\"text-align: right;\">\n",
       "      <th></th>\n",
       "      <th>Consumption</th>\n",
       "      <th>Wind</th>\n",
       "      <th>Solar</th>\n",
       "      <th>Wind+Solar</th>\n",
       "    </tr>\n",
       "    <tr>\n",
       "      <th>Date</th>\n",
       "      <th></th>\n",
       "      <th></th>\n",
       "      <th></th>\n",
       "      <th></th>\n",
       "    </tr>\n",
       "  </thead>\n",
       "  <tbody>\n",
       "    <tr>\n",
       "      <th>2006-01-01</th>\n",
       "      <td>1069.184</td>\n",
       "      <td>NaN</td>\n",
       "      <td>NaN</td>\n",
       "      <td>NaN</td>\n",
       "    </tr>\n",
       "    <tr>\n",
       "      <th>2006-01-02</th>\n",
       "      <td>1380.521</td>\n",
       "      <td>NaN</td>\n",
       "      <td>NaN</td>\n",
       "      <td>NaN</td>\n",
       "    </tr>\n",
       "    <tr>\n",
       "      <th>2006-01-03</th>\n",
       "      <td>1442.533</td>\n",
       "      <td>NaN</td>\n",
       "      <td>NaN</td>\n",
       "      <td>NaN</td>\n",
       "    </tr>\n",
       "    <tr>\n",
       "      <th>2006-01-04</th>\n",
       "      <td>1457.217</td>\n",
       "      <td>NaN</td>\n",
       "      <td>NaN</td>\n",
       "      <td>NaN</td>\n",
       "    </tr>\n",
       "    <tr>\n",
       "      <th>2006-01-05</th>\n",
       "      <td>1477.131</td>\n",
       "      <td>NaN</td>\n",
       "      <td>NaN</td>\n",
       "      <td>NaN</td>\n",
       "    </tr>\n",
       "  </tbody>\n",
       "</table>\n",
       "</div>"
      ],
      "text/plain": [
       "            Consumption  Wind  Solar  Wind+Solar\n",
       "Date                                            \n",
       "2006-01-01     1069.184   NaN    NaN         NaN\n",
       "2006-01-02     1380.521   NaN    NaN         NaN\n",
       "2006-01-03     1442.533   NaN    NaN         NaN\n",
       "2006-01-04     1457.217   NaN    NaN         NaN\n",
       "2006-01-05     1477.131   NaN    NaN         NaN"
      ]
     },
     "execution_count": 8,
     "metadata": {},
     "output_type": "execute_result"
    }
   ],
   "source": [
    "df3 = pd.read_csv('c:/2/Energy.csv', index_col=0, parse_dates=['Date'])\n",
    "df3.set_index('Date', inplace=True)\n",
    "df3.head()"
   ]
  },
  {
   "cell_type": "code",
   "execution_count": 9,
   "metadata": {},
   "outputs": [
    {
     "data": {
      "text/plain": [
       "(<Figure size 1152x720 with 1 Axes>,\n",
       " array([<matplotlib.axes._subplots.AxesSubplot object at 0x000001C980465198>],\n",
       "       dtype=object))"
      ]
     },
     "execution_count": 9,
     "metadata": {},
     "output_type": "execute_result"
    },
    {
     "data": {
      "text/plain": [
       "<Figure size 32480x28000 with 0 Axes>"
      ]
     },
     "metadata": {},
     "output_type": "display_data"
    },
    {
     "data": {
      "image/png": "[encoded data removed]",
      "text/plain": [
       "<Figure size 1152x720 with 1 Axes>"
      ]
     },
     "metadata": {
      "needs_background": "light"
     },
     "output_type": "display_data"
    },
    {
     "data": {
      "image/png": "[encoded data removed]",
      "text/plain": [
       "<Figure size 1152x720 with 1 Axes>"
      ]
     },
     "metadata": {
      "needs_background": "light"
     },
     "output_type": "display_data"
    },
    {
     "data": {
      "image/png": "[encoded data removed]",
      "text/plain": [
       "<Figure size 1152x720 with 1 Axes>"
      ]
     },
     "metadata": {
      "needs_background": "light"
     },
     "output_type": "display_data"
    }
   ],
   "source": [
    "plt.figure(figsize=(116,100), dpi= 280)\n",
    "\n",
    "calmap.calendarplot(df3['2007']['Consumption'],cmap= 'YlOrBr', how='sum'\n",
    "                    ,fillcolor='white'\n",
    "                    , fig_kws={'figsize': (16,10)}\n",
    "                    , yearlabel_kws={'color':'gray', 'fontsize':44,'alpha':0.5}\n",
    "                    , subplot_kws={'title':'Daily power consumption'})\n",
    "\n",
    "calmap.calendarplot(df3['2008']['Consumption'],cmap= 'YlOrBr', how='sum'\n",
    "                    ,fillcolor='white'\n",
    "                    , fig_kws={'figsize': (16,10)}\n",
    "                    , yearlabel_kws={'color':'gray', 'fontsize':44,'alpha':0.5}\n",
    "                    , subplot_kws={'title':'Daily power consumption'})\n",
    "\n",
    "calmap.calendarplot(df3['2009']['Consumption'],cmap= 'YlOrBr', how='sum'\n",
    "                    ,fillcolor='white', daylabels='PWŚCPSN'\n",
    "                    , fig_kws={'figsize': (16,10)}\n",
    "                    , yearlabel_kws={'color':'gray', 'fontsize':44,'alpha':0.5}\n",
    "                    , subplot_kws={'title':'Daily power consumption'})"
   ]
  },
  {
   "cell_type": "markdown",
   "metadata": {},
   "source": [
    "# Personal calendar"
   ]
  },
  {
   "cell_type": "code",
   "execution_count": 10,
   "metadata": {},
   "outputs": [
    {
     "data": {
      "text/html": [
       "<div>\n",
       "<style scoped>\n",
       "    .dataframe tbody tr th:only-of-type {\n",
       "        vertical-align: middle;\n",
       "    }\n",
       "\n",
       "    .dataframe tbody tr th {\n",
       "        vertical-align: top;\n",
       "    }\n",
       "\n",
       "    .dataframe thead th {\n",
       "        text-align: right;\n",
       "    }\n",
       "</style>\n",
       "<table border=\"1\" class=\"dataframe\">\n",
       "  <thead>\n",
       "    <tr style=\"text-align: right;\">\n",
       "      <th></th>\n",
       "      <th>Continuous</th>\n",
       "    </tr>\n",
       "    <tr>\n",
       "      <th>Date</th>\n",
       "      <th></th>\n",
       "    </tr>\n",
       "  </thead>\n",
       "  <tbody>\n",
       "    <tr>\n",
       "      <th>2018-08-31</th>\n",
       "      <td>65</td>\n",
       "    </tr>\n",
       "    <tr>\n",
       "      <th>2018-09-02</th>\n",
       "      <td>60</td>\n",
       "    </tr>\n",
       "    <tr>\n",
       "      <th>2018-09-03</th>\n",
       "      <td>75</td>\n",
       "    </tr>\n",
       "    <tr>\n",
       "      <th>2018-09-04</th>\n",
       "      <td>120</td>\n",
       "    </tr>\n",
       "    <tr>\n",
       "      <th>2018-09-05</th>\n",
       "      <td>120</td>\n",
       "    </tr>\n",
       "  </tbody>\n",
       "</table>\n",
       "</div>"
      ],
      "text/plain": [
       "            Continuous\n",
       "Date                  \n",
       "2018-08-31          65\n",
       "2018-09-02          60\n",
       "2018-09-03          75\n",
       "2018-09-04         120\n",
       "2018-09-05         120"
      ]
     },
     "execution_count": 10,
     "metadata": {},
     "output_type": "execute_result"
    }
   ],
   "source": [
    "df4 = pd.read_excel('c:/3/wtm.xlsx', parse_dates=['Date'])\n",
    "df4.set_index('Date', inplace=True)\n",
    "df4.head()"
   ]
  },
  {
   "cell_type": "code",
   "execution_count": 11,
   "metadata": {},
   "outputs": [
    {
     "data": {
      "text/plain": [
       "(<Figure size 1152x720 with 1 Axes>,\n",
       " array([<matplotlib.axes._subplots.AxesSubplot object at 0x000001C98056CF28>],\n",
       "       dtype=object))"
      ]
     },
     "execution_count": 11,
     "metadata": {},
     "output_type": "execute_result"
    },
    {
     "data": {
      "image/png": "[encoded data removed]",
      "text/plain": [
       "<Figure size 1152x720 with 1 Axes>"
      ]
     },
     "metadata": {
      "needs_background": "light"
     },
     "output_type": "display_data"
    },
    {
     "data": {
      "image/png": "[encoded data removed]",
      "text/plain": [
       "<Figure size 1152x720 with 1 Axes>"
      ]
     },
     "metadata": {
      "needs_background": "light"
     },
     "output_type": "display_data"
    }
   ],
   "source": [
    "calmap.calendarplot(df4['2018']['Continuous'],cmap= 'YlGn', how='sum'\n",
    "                    ,fillcolor='white'\n",
    "                    , fig_kws={'figsize': (16,10)}\n",
    "                    , yearlabel_kws={'color':'gray', 'fontsize':44,'alpha':0.5}\n",
    "                    , subplot_kws={'title':'Personal calendar'})\n",
    "\n",
    "calmap.calendarplot(df4['2019']['Continuous'],cmap= 'YlGn', how='sum'\n",
    "                    ,fillcolor='white'\n",
    "                    , fig_kws={'figsize': (16,10)}\n",
    "                    , yearlabel_kws={'color':'gray', 'fontsize':44,'alpha':0.5}\n",
    "                    , subplot_kws={'title':'Personal calendar'})"
   ]
  }
 ],
 "metadata": {
  "kernelspec": {
   "display_name": "Python 3",
   "language": "python",
   "name": "python3"
  },
  "language_info": {
   "codemirror_mode": {
    "name": "ipython",
    "version": 3
   },
   "file_extension": ".py",
   "mimetype": "text/x-python",
   "name": "python",
   "nbconvert_exporter": "python",
   "pygments_lexer": "ipython3",
   "version": "3.6.8"
  }
 },
 "nbformat": 4,
 "nbformat_minor": 2
}
